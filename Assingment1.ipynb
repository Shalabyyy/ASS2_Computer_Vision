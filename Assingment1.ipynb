{
 "cells": [
  {
   "cell_type": "code",
   "execution_count": 1,
   "metadata": {},
   "outputs": [],
   "source": [
    "import numpy as np\n",
    "from PIL import Image\n",
    "import math\n",
    "import matplotlib.pyplot as plt\n",
    "%matplotlib inline"
   ]
  },
  {
   "source": [],
   "cell_type": "markdown",
   "metadata": {}
  },
  {
   "cell_type": "code",
   "execution_count": 72,
   "metadata": {},
   "outputs": [],
   "source": [
    "\n",
    "def convertImageToArrayRGB(imagefile):\n",
    "    imageObject = Image.open(imagefile)\n",
    "    return np.array(imageObject)\n",
    "\n",
    "img_2 = convertImageToArrayRGB('L4.jpg')\n",
    "\n"
   ]
  },
  {
   "cell_type": "code",
   "execution_count": 91,
   "metadata": {},
   "outputs": [],
   "source": [
    "def CalculateIntegral(arrayImage):\n",
    "    \"\"\"\n",
    "Input: 2D array representing the image (feel free to use a predefined function to transform an image into an array).\n",
    "Output: 2D array representing the integral image.\n",
    "    \"\"\"\n",
    "    height = len(arrayImage)\n",
    "    width = len(arrayImage)\n",
    "\n",
    "    #Init a 3d array of length, width and RGB values\n",
    "    si = np.zeros((height,width,3))\n",
    "    si.astype(int)\n",
    "    si.setflags(write=1)\n",
    "\n",
    "    #Add First Coloumn to SI\n",
    "    for i in range(0,height):\n",
    "        si[i][0] =  arrayImage[i][0]\n",
    "\n",
    "    #Get SI    \n",
    "    for i in range(0,height):\n",
    "        for j in range(1,width):\n",
    "            si[i][j][0] = arrayImage[i][j][0] + si[i][j-1][0]\n",
    "            si[i][j][1] = arrayImage[i][j][1] + si[i][j-1][1]\n",
    "            si[i][j][2] = arrayImage[i][j][2] + si[i][j-1][2]\n",
    "    #Get II\n",
    "    for j in range(0,width):\n",
    "        for i in range(1,height):\n",
    "            si[i][j][0] = si[i][j][0] + si[i-1][j][0]\n",
    "            si[i][j][1] = si[i][j][1] + si[i-1][j][1]\n",
    "            si[i][j][2] = si[i][j][2] + si[i-1][j][2]        \n",
    "    \n",
    "    return si"
   ]
  },
  {
   "cell_type": "code",
   "execution_count": 92,
   "metadata": {
    "tags": []
   },
   "outputs": [
    {
     "output_type": "stream",
     "name": "stdout",
     "text": [
      "[ 999380. 1437731. 1873904.]\n"
     ]
    }
   ],
   "source": [
    "si = CalculateIntegral(img_2)\n",
    "print(si[600][80])"
   ]
  },
  {
   "cell_type": "code",
   "execution_count": 106,
   "metadata": {},
   "outputs": [
    {
     "output_type": "stream",
     "name": "stdout",
     "text": [
      "[3280464. 4737887. 6180312.]\n[5112577. 7382570. 9630944.]\n"
     ]
    }
   ],
   "source": [
    "def CalculateLocalSum(intergralImage, left_corner, right_corner):\n",
    "    \"\"\"\n",
    "    Input: An integral image, and a two pairs of coordinates (𝑝0=(𝑥0,𝑦0),𝑝1=(𝑥1,𝑦1)).\n",
    "    Output: The local sum for the rectangular area defined by the pair of points (as 𝑝0 being the upper left corner, and 𝑝1 being the lower right corner of this rectangular area).\n",
    "    \"\"\"\n",
    "    # Returns Intensity Relative to Origin\n",
    "    if(left_corner==0 and right_corner!=-1):\n",
    "        return intergralImage[right_corner[0]][right_corner[1]] - intergralImage[0][right_corner[1]] - intergralImage[right_corner[0]][0] + intergralImage[0][0]\n",
    "    #Returns Difference between right and left indicies.\n",
    "    else:\n",
    "        return intergralImage[right_corner[0]][right_corner[1]] - intergralImage[left_corner[0]][left_corner[1]]\n",
    "        \n",
    "\n",
    "\n",
    "print(CalculateLocalSum(si,(300,300),(500,500)))\n",
    "print(CalculateLocalSum(si,0,(500,500)))"
   ]
  },
  {
   "cell_type": "code",
   "execution_count": null,
   "metadata": {},
   "outputs": [],
   "source": []
  }
 ],
 "metadata": {
  "kernelspec": {
   "name": "python3",
   "display_name": "Python 3.7.9 64-bit",
   "metadata": {
    "interpreter": {
     "hash": "21e9b62f374f496295543feae186de287ba04a7a0faa16f5e861cb5d3ad6ad86"
    }
   }
  },
  "language_info": {
   "codemirror_mode": {
    "name": "ipython",
    "version": 3
   },
   "file_extension": ".py",
   "mimetype": "text/x-python",
   "name": "python",
   "nbconvert_exporter": "python",
   "pygments_lexer": "ipython3",
   "version": "3.7.9-final"
  }
 },
 "nbformat": 4,
 "nbformat_minor": 2
}