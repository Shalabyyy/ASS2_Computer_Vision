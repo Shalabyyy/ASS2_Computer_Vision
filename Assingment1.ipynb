{
 "cells": [
  {
   "cell_type": "code",
   "execution_count": 60,
   "metadata": {},
   "outputs": [],
   "source": [
    "import numpy as np\n",
    "from PIL import Image,ImageOps\n",
    "import math\n",
    "import matplotlib.pyplot as plt\n",
    "%matplotlib inline"
   ]
  },
  {
   "source": [],
   "cell_type": "markdown",
   "metadata": {}
  },
  {
   "cell_type": "code",
   "execution_count": 61,
   "metadata": {},
   "outputs": [
    {
     "output_type": "execute_result",
     "data": {
      "text/plain": [
       "array([[27, 27, 27, ..., 27, 27, 27],\n",
       "       [27, 28, 27, ..., 27, 27, 27],\n",
       "       [27, 28, 27, ..., 27, 27, 27],\n",
       "       ...,\n",
       "       [32, 35, 35, ..., 40, 40, 39],\n",
       "       [32, 35, 35, ..., 38, 39, 40],\n",
       "       [32, 34, 35, ..., 38, 38, 39]], dtype=uint8)"
      ]
     },
     "metadata": {},
     "execution_count": 61
    }
   ],
   "source": [
    "\n",
    "def convertImageToArrayRGB(imagefile, grayscale):\n",
    "    \"\"\"\n",
    "    Input: Image .JPG file\n",
    "    Output: 2D array representing the image.\n",
    "    \"\"\"\n",
    "    imageObject = Image.open(imagefile)\n",
    "    if not grayscale :\n",
    "        return np.array(imageObject)\n",
    "    else :\n",
    "        gray_image = ImageOps.grayscale(imageObject)\n",
    "        return np.array(gray_image)\n",
    "    \n",
    "\n",
    "img_2 = convertImageToArrayRGB('L4.jpg', False)\n",
    "img_2_Gray = convertImageToArrayRGB('L4.jpg', True)\n",
    "img_2_Gray\n"
   ]
  },
  {
   "cell_type": "code",
   "execution_count": 62,
   "metadata": {},
   "outputs": [],
   "source": [
    "def CalculateIntegral(arrayImage):\n",
    "    \"\"\"\n",
    "    Input: 2D array representing the image (feel free to use a predefined function to transform an image into an array).\n",
    "    Output: 2D array representing the integral image.\n",
    "    \"\"\"\n",
    "    height = len(arrayImage)\n",
    "    width = len(arrayImage[0])\n",
    "    \n",
    "    #Init a 3d array of length, width and RGB values\n",
    "    si = np.zeros(arrayImage.shape)\n",
    "    si.astype(int)\n",
    "    si.setflags(write=1)\n",
    "\n",
    "    #Add First Coloumn to SI\n",
    "    for i in range(0,height):\n",
    "        si[i][0] =  arrayImage[i][0]\n",
    "\n",
    "    #Get SI    \n",
    "    for i in range(0,height):\n",
    "        for j in range(1,width):\n",
    "            si[i][j] = arrayImage[i][j] + si[i][j-1]\n",
    "    #Get II\n",
    "    for j in range(0,width):\n",
    "        for i in range(1,height):\n",
    "            si[i][j] = si[i][j] + si[i-1][j]       \n",
    "    \n",
    "    return si"
   ]
  },
  {
   "cell_type": "code",
   "execution_count": 63,
   "metadata": {
    "tags": []
   },
   "outputs": [
    {
     "output_type": "stream",
     "name": "stdout",
     "text": [
      "544235163.0\n"
     ]
    }
   ],
   "source": [
    "#si = CalculateIntegral(img_2)\n",
    "si_g = CalculateIntegral(img_2_Gray)\n",
    "print(si_g[2159][3839])"
   ]
  },
  {
   "cell_type": "code",
   "execution_count": 70,
   "metadata": {},
   "outputs": [
    {
     "output_type": "stream",
     "name": "stdout",
     "text": [
      "True\n6854969.0\n"
     ]
    }
   ],
   "source": [
    "def CalculateLocalSum(intergralImage, left_corner, right_corner):\n",
    "    \"\"\"\n",
    "    Input: An integral image, and a two pairs of coordinates (𝑝0=(𝑥0,𝑦0),𝑝1=(𝑥1,𝑦1)).\n",
    "    Output: The local sum for the rectangular area defined by the pair of points (as 𝑝0 being the upper left corner, and 𝑝1 being the lower right corner of this                  rectangular area).\n",
    "    \"\"\"\n",
    "    # Returns Intensity Relative to Origin\n",
    "    if(left_corner==0 and right_corner!=-1):\n",
    "        if right_corner[0] == 0 or right_corner[1] == 0:\n",
    "            #print(\"BEDANI\",intergralImage[right_corner[1]][right_corner[0]],intergralImage[0][0])\n",
    "            return intergralImage[right_corner[1]][right_corner[0]] - intergralImage[0][0]\n",
    "        return intergralImage[right_corner[1]][right_corner[0]] - intergralImage[1][right_corner[0]] - intergralImage[right_corner[1]][1] + intergralImage[1][1]\n",
    "    #Returns Difference between right and left indicies.\n",
    "    else:\n",
    "        #hnafge zero to one\n",
    "        #print(left_corner,right_corner)\n",
    "        return intergralImage[right_corner[1]][right_corner[0]] + intergralImage[left_corner[1]][left_corner[0]] - intergralImage[left_corner[1]][right_corner[0]]  - intergralImage[right_corner[1]][left_corner[0]] \n",
    "        \n",
    "\n",
    "\n",
    "#print(CalculateLocalSum(si,(300,300),(500,500)))\n",
    "test1 = CalculateLocalSum(si_g,(300,300),(500,500))\n",
    "test2 = si_g[500][500]+si_g[300][300]-si_g[300][500]-si_g[500][300]\n",
    "print(test1==test2)\n",
    "print(CalculateLocalSum(si_g,0,(500,500)))"
   ]
  },
  {
   "cell_type": "code",
   "execution_count": 65,
   "metadata": {},
   "outputs": [
    {
     "output_type": "stream",
     "name": "stdout",
     "text": [
      "Returning Prewitt of Size: 5\n"
     ]
    },
    {
     "output_type": "execute_result",
     "data": {
      "text/plain": [
       "(array([[ 1.,  1.,  1.,  1.,  1.],\n",
       "        [ 1.,  1.,  1.,  1.,  1.],\n",
       "        [ 0.,  0.,  0.,  0.,  0.],\n",
       "        [-1., -1., -1., -1., -1.],\n",
       "        [-1., -1., -1., -1., -1.]]),\n",
       " array([[ 1.,  1.,  0., -1., -1.],\n",
       "        [ 1.,  1.,  0., -1., -1.],\n",
       "        [ 1.,  1.,  0., -1., -1.],\n",
       "        [ 1.,  1.,  0., -1., -1.],\n",
       "        [ 1.,  1.,  0., -1., -1.]]))"
      ]
     },
     "metadata": {},
     "execution_count": 65
    }
   ],
   "source": [
    "def kernelGenerator(size,kernelType):\n",
    "    \"\"\"\n",
    "    Input: The size of the Kernel and Its Type\n",
    "    Output: returns the requested kernel and describes it breifly\n",
    "    \"\"\"\n",
    "    if(size%2 ==0 or size ==1):\n",
    "        print(\"Size has to be an Odd Number >1\")\n",
    "        return\n",
    "\n",
    "    middle_row = math.floor(size/2)    \n",
    "    if(kernelType.lower()==\"prewitt\"):\n",
    "        print(\"Returning Prewitt of Size: %s\" %size)\n",
    "\n",
    "        #Computin Value of H1\n",
    "        h1 = np.zeros(size**2).reshape(size,size)\n",
    "        h1[0:middle_row] = [1]*size\n",
    "        h1[middle_row] = [0]*size\n",
    "        h1[middle_row+1:] = [-1]*size\n",
    "\n",
    "        #Computing value of H2\n",
    "        h2 = np.copy(h1)\n",
    "        h2 = np.transpose(h2)\n",
    "\n",
    "        return h1,h2\n",
    "\n",
    "    elif(kernelType.lower()==\"laplace\"):\n",
    "        print(\"Returning Laplace of Size: %s \"%size)\n",
    "        h1 = np.zeros(size**2).reshape(size,size) - 1\n",
    "        h1[middle_row][middle_row] = (size**2) -1\n",
    "        return h1,[]\n",
    "\n",
    "    elif(kernelType.lower()==\"mean\"):\n",
    "        print(\"Returning Mean of Size: %d \"%size)\n",
    "        h1 = (np.zeros(size**2).reshape(size,size) + 1) * (1/(size**2))\n",
    "        return h1,[]\n",
    "    else:\n",
    "        print(\"This Kernel Is Not Supported\")\n",
    "        return [],[]\n",
    "\n",
    "kernelGenerator(5,\"prewitt\")"
   ]
  },
  {
   "cell_type": "code",
   "execution_count": 73,
   "metadata": {
    "tags": []
   },
   "outputs": [
    {
     "output_type": "stream",
     "name": "stdout",
     "text": [
      "Integral Image: \n",
      " [[2.70000000e+01 5.40000000e+01 8.10000000e+01 ... 1.04737000e+05\n",
      "  1.04764000e+05 1.04791000e+05]\n",
      " [5.40000000e+01 1.09000000e+02 1.63000000e+02 ... 2.10170000e+05\n",
      "  2.10224000e+05 2.10278000e+05]\n",
      " [8.10000000e+01 1.64000000e+02 2.45000000e+02 ... 3.15913000e+05\n",
      "  3.15994000e+05 3.16075000e+05]\n",
      " ...\n",
      " [5.31360000e+04 1.40528000e+05 2.28945000e+05 ... 5.43803854e+08\n",
      "  5.43887226e+08 5.43938425e+08]\n",
      " [5.31680000e+04 1.40595000e+05 2.29047000e+05 ... 5.43952348e+08\n",
      "  5.44035759e+08 5.44086998e+08]\n",
      " [5.32000000e+04 1.40661000e+05 2.29148000e+05 ... 5.44100436e+08\n",
      "  5.44183885e+08 5.44235163e+08]]\n",
      "3840 2160\n",
      "StepSize 2\n",
      "Local Sum Matrix: \n",
      " [[0.00000000e+00 2.70000000e+01 5.40000000e+01 ... 1.04710000e+05\n",
      "  1.04737000e+05 1.04764000e+05]\n",
      " [2.70000000e+01 0.00000000e+00 0.00000000e+00 ... 0.00000000e+00\n",
      "  0.00000000e+00 0.00000000e+00]\n",
      " [5.40000000e+01 0.00000000e+00 2.70000000e+01 ... 1.05688000e+05\n",
      "  1.05715000e+05 1.05742000e+05]\n",
      " ...\n",
      " [5.31090000e+04 0.00000000e+00 8.83630000e+04 ... 5.43453265e+08\n",
      "  5.43536583e+08 5.43587728e+08]\n",
      " [5.31410000e+04 0.00000000e+00 8.83980000e+04 ... 5.43601692e+08\n",
      "  5.43685049e+08 5.43736234e+08]\n",
      " [5.31730000e+04 0.00000000e+00 8.84330000e+04 ... 5.43749714e+08\n",
      "  5.43833109e+08 5.43884333e+08]]\n",
      "[[False False False ... False False False]\n",
      " [False False False ... False False False]\n",
      " [False False False ... False False False]\n",
      " ...\n",
      " [False False False ... False False False]\n",
      " [False False False ... False False False]\n",
      " [False False False ... False False False]]\n"
     ]
    }
   ],
   "source": [
    "#print(CalculateLocalSum(si_g,0,(500,500)))\n",
    "#array[height][width]\n",
    "\n",
    "def EdgeDetect(integral_image, kernel_size):\n",
    "    if(kernel_size%2 ==0 or kernel_size ==1):\n",
    "        print(\"Size has to be an Odd Number >1\")\n",
    "        return\n",
    "\n",
    "    print(\"Integral Image: \\n\",integral_image)\n",
    "    width = len(integral_image[0])\n",
    "    height = len(integral_image)\n",
    "    print(width,height)\n",
    "\n",
    "\n",
    "\n",
    "    image =  Image.fromarray(integral_image)\n",
    "    #image.show()\n",
    "    localSumMatrix = np.copy(integral_image)\n",
    "    stepSize = math.floor(kernel_size/2)\n",
    "    h1_result = np.copy(localSumMatrix) \n",
    "    h2_result = np.copy(localSumMatrix) \n",
    "    magn = np.copy(localSumMatrix) \n",
    "    laplace_result = np.copy(localSumMatrix)\n",
    "\n",
    "    print(\"StepSize\",stepSize)\n",
    "   # for j in range(0,height):\n",
    "   #     for i in range(0,width):\n",
    "   #         localSumMatrix[j][i]= CalculateLocalSum(integral_image,0,(i,j))\n",
    "    \n",
    "    \n",
    "    for j in range(kernel_size,height-kernel_size):\n",
    "        for i in range(kernel_size,width-kernel_size):\n",
    "                   #print(\"pixel @ \",i,j)\n",
    "                   X1 = int(i - (stepSize/2))\n",
    "                   Y1 = int(j - (stepSize/2))\n",
    "                   Y2 = int(j - (stepSize/2))\n",
    "                   X2 = int(i + (stepSize/2))\n",
    "                   h1_upper = CalculateLocalSum(integral_image,(X1,Y1),(X2,Y2))\n",
    "\n",
    "                   Y1 = int(j + (stepSize/2))\n",
    "                   Y2 = int(j + (stepSize/2))\n",
    "                   h1_lower = CalculateLocalSum(integral_image,(X1,Y1),(X2,Y2))\n",
    "                   h1_all = (h1_upper +(h1_lower*-1)) #check if we need to divide\n",
    "                   h1_result[j][i] = int(h1_all)\n",
    "\n",
    "                   X1 = int(i - (stepSize/2))\n",
    "                   Y1 = int(j - (stepSize/2))\n",
    "                   Y2 = int(j + (stepSize/2))\n",
    "                   X2 = int(i - (stepSize/2))\n",
    "                   h2_left = CalculateLocalSum(integral_image,(X1,Y1),(X2,Y2))\n",
    "\n",
    "                   X1 = int(i + (stepSize/2))\n",
    "                   X2 = int(i + (stepSize/2))\n",
    "\n",
    "                   h2_right = CalculateLocalSum(integral_image,(X1,Y1),(X2,Y2))\n",
    "                   h2_all = (h2_right +(h2_left*-1)) #check if we need to divide\n",
    "                   h2_result[j][i] = int(h2_all)\n",
    "                   \n",
    "                   magn[j][i] = math.sqrt((h2_result[j][i])**2 + (h1_result[j][i])**2)\n",
    "    \n",
    "\n",
    "    print(\"Local Sum Matrix: \\n\",localSumMatrix)\n",
    "    print(\"Magnitude: \\n\",magn)  \n",
    "    print(localSumMatrix==integral_image)\n",
    "    image = Image.fromarray(magn)\n",
    "    image.show()\n",
    "    \n",
    "    return #(h1,h2),(h1_abs,h2_abs)\n",
    "\n",
    "test7 = CalculateIntegral(np.arange(25).reshape(5,5))\n",
    "\n",
    "#EdgeDetect(test,5)\n",
    "EdgeDetect(si_g,5)     "
   ]
  },
  {
   "cell_type": "code",
   "execution_count": null,
   "metadata": {},
   "outputs": [],
   "source": []
  }
 ],
 "metadata": {
  "kernelspec": {
   "name": "python3",
   "display_name": "Python 3.7.9 64-bit",
   "metadata": {
    "interpreter": {
     "hash": "21e9b62f374f496295543feae186de287ba04a7a0faa16f5e861cb5d3ad6ad86"
    }
   }
  },
  "language_info": {
   "codemirror_mode": {
    "name": "ipython",
    "version": 3
   },
   "file_extension": ".py",
   "mimetype": "text/x-python",
   "name": "python",
   "nbconvert_exporter": "python",
   "pygments_lexer": "ipython3",
   "version": "3.7.9-final"
  }
 },
 "nbformat": 4,
 "nbformat_minor": 2
}